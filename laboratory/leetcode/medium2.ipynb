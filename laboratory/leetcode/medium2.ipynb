{
 "cells": [
  {
   "attachments": {
    "image.png": {
     "image/png": "[encoded data removed]"
    }
   },
   "cell_type": "markdown",
   "metadata": {},
   "source": [
    "Input: A = [[0,2],[5,10],[13,23],[24,25]], B = [[1,5],[8,12],[15,24],[25,26]]\n",
    "Output: [[1,2],[5,5],[8,10],[15,23],[24,24],[25,25]]\n",
    "\n",
    "### Reminder: The inputs and the desired output are lists of Interval objects, and not arrays or lists.\n",
    "\n",
    "\n",
    "![image.png](attachment:image.png)"
   ]
  },
  {
   "cell_type": "code",
   "execution_count": 2,
   "metadata": {},
   "outputs": [
    {
     "name": "stdout",
     "output_type": "stream",
     "text": [
      "[[0, 1], [2, 5], [5, 8], [10, 12], [13, 15], [23, 24], [24, 25], [25, 26]]\n",
      "[[1, 2], [8, 10], [15, 23], [25, 25]]\n"
     ]
    }
   ],
   "source": [
    "from typing import List\n",
    "\n",
    "def get_middle_list(A, B):\n",
    "    C = sum(A, [])\n",
    "    D = sum(B, [])\n",
    "    E = sum([sorted(C + D)], [])\n",
    "    middle_list = []\n",
    "    for i, item in enumerate(E):\n",
    "        if not i%2:\n",
    "            a = item\n",
    "            continue\n",
    "        middle_list.append([a,item])\n",
    "    return middle_list\n",
    "\n",
    "\n",
    "def intervalIntersection(A: List[List[int]], B: List[List[int]]) -> List[List[int]]:\n",
    "\n",
    "    middle_list = get_middle_list(A, B)\n",
    "    print(middle_list)\n",
    "    final_list = []\n",
    "\n",
    "    for i, items in enumerate(middle_list):\n",
    "        if not i%2:     \n",
    "            a = items[-1]\n",
    "            b = items[0]\n",
    "            continue\n",
    "        final_list.append([a, items[0]])\n",
    "    return final_list\n",
    "\n",
    "print(intervalIntersection(A = [[0,2],[5,10],[13,23],[24,25]], B = [[1,5],[8,12],[15,24],[25,26]]))\n",
    "\n"
   ]
  },
  {
   "cell_type": "code",
   "execution_count": null,
   "metadata": {},
   "outputs": [],
   "source": [
    "class Solution(object):\n",
    "    def intervalIntersection(self, A, B):\n",
    "        ans = []\n",
    "        i = j = 0\n",
    "\n",
    "        while i < len(A) and j < len(B):\n",
    "            # Let's check if A[i] intersects B[j].\n",
    "            # lo - the startpoint of the intersection\n",
    "            # hi - the endpoint of the intersection\n",
    "            lo = max(A[i].start, B[j].start)\n",
    "            hi = min(A[i].end, B[j].end)\n",
    "            if lo <= hi:\n",
    "                ans.append(Interval(lo, hi))\n",
    "\n",
    "            # Remove the interval with the smallest endpoint\n",
    "            if A[i].end < B[j].end:\n",
    "                i += 1\n",
    "            else:\n",
    "                j += 1\n",
    "\n",
    "        return ans"
   ]
  },
  {
   "cell_type": "markdown",
   "metadata": {},
   "source": [
    "Time Complexity: O(M + N)O(M+N), where M, NM,N are the lengths of A and B respectively.\n",
    "\n",
    "Space Complexity: O(M + N)O(M+N), the maximum size of the answer."
   ]
  },
  {
   "cell_type": "code",
   "execution_count": null,
   "metadata": {},
   "outputs": [],
   "source": [
    "    def intervalIntersection(self, A: List[List[int]], B: List[List[int]]) -> List[List[int]]:\n",
    "        a, b, res = 0, 0, []\n",
    "        while a < len(A) and b < len(B):\n",
    "            s, e = max(A[a][0], B[b][0]), min(A[a][1], B[b][1])\n",
    "            if s <= e:\n",
    "                res.append([s, e])\n",
    "            if A[a][1] > B[b][1]:\n",
    "                b += 1\n",
    "            else:\n",
    "                a += 1       \n",
    "        return res"
   ]
  }
 ],
 "metadata": {
  "kernelspec": {
   "display_name": "study",
   "language": "python",
   "name": "study"
  },
  "language_info": {
   "codemirror_mode": {
    "name": "ipython",
    "version": 3
   },
   "file_extension": ".py",
   "mimetype": "text/x-python",
   "name": "python",
   "nbconvert_exporter": "python",
   "pygments_lexer": "ipython3",
   "version": "3.7.4"
  }
 },
 "nbformat": 4,
 "nbformat_minor": 4
}
