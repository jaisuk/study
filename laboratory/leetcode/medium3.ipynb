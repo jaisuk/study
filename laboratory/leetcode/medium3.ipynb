{
 "cells": [
  {
   "cell_type": "markdown",
   "metadata": {},
   "source": [
    "Given a string S of '(' and ')' parentheses, we add the minimum number of parentheses ( '(' or ')', and in any positions ) so that the resulting parentheses string is valid.\n",
    "\n",
    "Formally, a parentheses string is valid if and only if:\n",
    "\n",
    "It is the empty string, or\n",
    "It can be written as AB (A concatenated with B), where A and B are valid strings, or\n",
    "It can be written as (A), where A is a valid string.\n",
    "Given a parentheses string, return the minimum number of parentheses we must add to make the resulting string valid.\n",
    "\n"
   ]
  },
  {
   "cell_type": "markdown",
   "metadata": {},
   "source": [
    "Example 1:\n",
    "\n",
    "- Input: \"())\"\n",
    "- Output: 1\n",
    "\n",
    "Example 2:\n",
    "\n",
    "- Input: \"(((\"\n",
    "- Output: 3\n",
    "\n",
    "Example 3:\n",
    "\n",
    "- Input: \"()\"\n",
    "- Output: 0\n",
    "\n",
    "Example 4:\n",
    "\n",
    "- Input: \"()))((\"\n",
    "- Output: 4"
   ]
  },
  {
   "cell_type": "markdown",
   "metadata": {},
   "source": [
    "## IDEA\n",
    " \n",
    "\n",
    "read from left -> if it meets \"(\" save -> if it meets \")\" => *remove both*\n",
    "-> continue from where it stoped -> if the str is over -> count the length of the final str"
   ]
  },
  {
   "cell_type": "code",
   "execution_count": null,
   "metadata": {},
   "outputs": [],
   "source": []
  }
 ],
 "metadata": {
  "kernelspec": {
   "display_name": "study",
   "language": "python",
   "name": "study"
  },
  "language_info": {
   "codemirror_mode": {
    "name": "ipython",
    "version": 3
   },
   "file_extension": ".py",
   "mimetype": "text/x-python",
   "name": "python",
   "nbconvert_exporter": "python",
   "pygments_lexer": "ipython3",
   "version": "3.7.4"
  }
 },
 "nbformat": 4,
 "nbformat_minor": 4
}
