{
 "cells": [
  {
   "cell_type": "code",
   "execution_count": null,
   "metadata": {},
   "outputs": [],
   "source": [
    "https://leetcode.com/problems/find-and-replace-pattern/"
   ]
  },
  {
   "cell_type": "code",
   "execution_count": null,
   "metadata": {},
   "outputs": [],
   "source": [
    "Input: words = [\"abc\",\"deq\",\"mee\",\"aqq\",\"dkd\",\"ccc\"], pattern = \"abb\"\n",
    "Output: [\"mee\",\"aqq\"]"
   ]
  },
  {
   "cell_type": "code",
   "execution_count": 6,
   "metadata": {},
   "outputs": [
    {
     "name": "stdout",
     "output_type": "stream",
     "text": [
      "['mee', 'aqq']\n"
     ]
    }
   ],
   "source": [
    "from typing import List\n",
    "\n",
    "def findAndReplacePattern(words: List[str], pattern: str) -> List[str]:\n",
    "    pattern_dict = {}\n",
    "    output = []\n",
    "    for i, item in enumerate(pattern):\n",
    "        pattern_dict[item] = i\n",
    "    pattern_list = [pattern_dict[item] for item in pattern]\n",
    "    for word in words:\n",
    "        word_dict = {}\n",
    "        for i, item in enumerate(word):\n",
    "            word_dict[item] = i\n",
    "        word_list = [word_dict[item] for item in word]\n",
    "        if word_list == pattern_list:\n",
    "            output.append(word)\n",
    "    return output\n",
    "\n",
    "print(findAndReplacePattern(words = [\"abc\",\"deq\",\"mee\",\"aqq\",\"dkd\",\"ccc\"], pattern = \"abb\"))"
   ]
  },
  {
   "cell_type": "markdown",
   "metadata": {},
   "source": [
    "Runtime: 64 ms, faster than 5.79% of Python3 online submissions for Find and Replace Pattern.\n",
    "\n",
    "Memory Usage: 13.7 MB, less than 11.11% of Python3 online submissions for Find and Replace Pattern."
   ]
  },
  {
   "cell_type": "code",
   "execution_count": null,
   "metadata": {},
   "outputs": [],
   "source": [
    "from typing import List\n",
    "\n",
    "def findAndReplacePattern(words: List[str], pattern: str) -> List[str]:\n",
    "    pattern_dict = {}\n",
    "    output = []\n",
    "    \n",
    "    \n",
    "    for i, item in enumerate(pattern):\n",
    "        pattern_dict[item] = i\n",
    "    pattern_list = [pattern_dict[item] for item in pattern]\n",
    "    \n",
    "    \n",
    "    for word in words:\n",
    "        word_dict = {}\n",
    "        for i, item in enumerate(word):\n",
    "            word_dict[item] = i\n",
    "        word_list = [word_dict[item] for item in word]\n",
    "        \n",
    "        \n",
    "        if word_list == pattern_list:\n",
    "            output.append(word)\n",
    "    return output\n",
    "\n",
    "\"dkd\" => {d:2, k:1}\n",
    "\"dkd\" => [2, 1, 2]\n",
    "\n",
    "print(findAndReplacePattern(words = [\"abc\",\"deq\",\"mee\",\"aqq\",\"dkd\",\"ccc\"], pattern = \"abb\"))"
   ]
  },
  {
   "cell_type": "code",
   "execution_count": 5,
   "metadata": {},
   "outputs": [
    {
     "name": "stdout",
     "output_type": "stream",
     "text": [
      "[0, 1, 1]\n",
      "['mee', 'aqq']\n"
     ]
    }
   ],
   "source": [
    "def findAndReplacePattern(words, p):\n",
    "    def F(w):\n",
    "        m = {}\n",
    "        return [m.setdefault(c, len(m)) for c in w]\n",
    "    Fp = F(p)\n",
    "    return [w for w in words if F(w) == Fp]\n",
    "    \n",
    "print(findAndReplacePattern(words = [\"abc\",\"deq\",\"mee\",\"aqq\",\"dkd\",\"ccc\"], p = \"abb\"))"
   ]
  },
  {
   "cell_type": "code",
   "execution_count": 8,
   "metadata": {},
   "outputs": [],
   "source": [
    "class Solution(object):\n",
    "    def findAndReplacePattern(self, words, pattern):\n",
    "        def match(word):\n",
    "            m1, m2 = {}, {}\n",
    "            for w, p in zip(word, pattern):\n",
    "                if w not in m1: m1[w] = p\n",
    "                if p not in m2: m2[p] = w\n",
    "                if (m1[w], m2[p]) != (p, w):\n",
    "                    return False\n",
    "            return True\n",
    "\n",
    "        return filter(match, words)"
   ]
  },
  {
   "cell_type": "markdown",
   "metadata": {},
   "source": [
    "Time Complexity: O(N * K)O(N∗K), where NN is the number of words, and KK is the length of each word.\n",
    "\n",
    "Space Complexity: O(N * K)O(N∗K), the space used by the answer."
   ]
  },
  {
   "cell_type": "code",
   "execution_count": null,
   "metadata": {},
   "outputs": [],
   "source": [
    "setdefault() method"
   ]
  },
  {
   "cell_type": "code",
   "execution_count": 3,
   "metadata": {},
   "outputs": [
    {
     "name": "stdout",
     "output_type": "stream",
     "text": [
      "[0]\n"
     ]
    }
   ],
   "source": [
    "m = {}\n",
    "w = 'a'\n",
    "print([m.setdefault(c, len(m)) for c in w])"
   ]
  },
  {
   "cell_type": "code",
   "execution_count": 4,
   "metadata": {
    "collapsed": true,
    "jupyter": {
     "outputs_hidden": true
    }
   },
   "outputs": [
    {
     "ename": "SyntaxError",
     "evalue": "invalid syntax (<ipython-input-4-95178ce42d51>, line 1)",
     "output_type": "error",
     "traceback": [
      "\u001b[0;36m  File \u001b[0;32m\"<ipython-input-4-95178ce42d51>\"\u001b[0;36m, line \u001b[0;32m1\u001b[0m\n\u001b[0;31m    filter() method\u001b[0m\n\u001b[0m                  ^\u001b[0m\n\u001b[0;31mSyntaxError\u001b[0m\u001b[0;31m:\u001b[0m invalid syntax\n"
     ]
    }
   ],
   "source": [
    "filter() method"
   ]
  },
  {
   "cell_type": "code",
   "execution_count": 5,
   "metadata": {},
   "outputs": [
    {
     "data": {
      "text/plain": [
       "[5, 6]"
      ]
     },
     "execution_count": 5,
     "metadata": {},
     "output_type": "execute_result"
    }
   ],
   "source": [
    "li = [-2, -3, 5, 6]\n",
    "\n",
    "# 양수만 반환하는 리스트\n",
    "def ft(li):\n",
    "    result = []\n",
    "    for e in li:\n",
    "        if e > 0:\n",
    "            result.append(e)\n",
    "        else:\n",
    "            pass\n",
    "    return result\n",
    "\n",
    "\n",
    "# filter 함수 사용시\n",
    "def positive(x):\n",
    "    return x > 0\n",
    "\n",
    "list(filter(positive, li))\n",
    "\n",
    "# filter + lambda 함수 사용시\n",
    "list(filter(lambda x: x > 0, li))"
   ]
  }
 ],
 "metadata": {
  "kernelspec": {
   "display_name": "study",
   "language": "python",
   "name": "study"
  },
  "language_info": {
   "codemirror_mode": {
    "name": "ipython",
    "version": 3
   },
   "file_extension": ".py",
   "mimetype": "text/x-python",
   "name": "python",
   "nbconvert_exporter": "python",
   "pygments_lexer": "ipython3",
   "version": "3.7.4"
  }
 },
 "nbformat": 4,
 "nbformat_minor": 4
}
