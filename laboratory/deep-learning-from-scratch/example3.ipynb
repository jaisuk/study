{
 "cells": [
  {
   "cell_type": "markdown",
   "metadata": {},
   "source": [
    "3장부터 코드의 효율성과 dataset저장의 용이를 위해 \n",
    "\n",
    "[Deep-learning-from-scratch](https://github.com/WegraLee/deep-learning-from-scratch)\n",
    "\n",
    "에서 공식 git을 clone하여 이용. 따로 study에 커밋은 안하는 것으로 하겠습니다.\n"
   ]
  },
  {
   "cell_type": "code",
   "execution_count": null,
   "metadata": {},
   "outputs": [],
   "source": []
  }
 ],
 "metadata": {
  "kernelspec": {
   "display_name": "study",
   "language": "python",
   "name": "study"
  },
  "language_info": {
   "codemirror_mode": {
    "name": "ipython",
    "version": 3
   },
   "file_extension": ".py",
   "mimetype": "text/x-python",
   "name": "python",
   "nbconvert_exporter": "python",
   "pygments_lexer": "ipython3",
   "version": "3.7.4"
  }
 },
 "nbformat": 4,
 "nbformat_minor": 4
}
