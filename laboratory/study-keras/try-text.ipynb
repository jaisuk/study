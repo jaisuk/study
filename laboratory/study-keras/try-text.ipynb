{
 "cells": [
  {
   "cell_type": "code",
   "execution_count": null,
   "metadata": {},
   "outputs": [],
   "source": [
    "import numpy as np\n",
    "\n",
    "samples = ['The cat sat on the mat.', 'The dog ate my homework.']\n",
    "\n",
    "token_index = {}\n",
    "for sample in samples:\n",
    "    for word in sample.split():\n",
    "        if word not in toekn_index:\n",
    "            token_index[word] = len(token_index) + 1\n",
    "            \n",
    "max_length = 10\n",
    "\n",
    "results = np.zeros(shape=(len(samples), max_length, max(token_index.values()) + 1))\n",
    "\n",
    "for i, sample in enumerate(smaples):\n",
    "    for j, word in list(enumerate(sample.split()))[:max_length]:\n",
    "        index = token_index.get(word)\n",
    "        results[i, j, index] = 1"
   ]
  },
  {
   "cell_type": "code",
   "execution_count": 9,
   "metadata": {},
   "outputs": [],
   "source": [
    "from keras.datasets import imdb\n",
    "from keras import preprocessing\n",
    "\n",
    "max_features = 10000\n",
    "maxlen = 20\n",
    "\n",
    "(x_train, y_train), (x_test, y_test) = imdb.load_data(\n",
    "num_words=max_features)\n",
    "\n",
    "x_train = preprocessing.sequence.pad_sequences(x_train, maxlen=maxlen)\n",
    "x_test = preprocessing.sequence.pad_sequences(x_test, maxlen=maxlen)"
   ]
  },
  {
   "cell_type": "code",
   "execution_count": 10,
   "metadata": {},
   "outputs": [
    {
     "name": "stdout",
     "output_type": "stream",
     "text": [
      "Model: \"sequential_1\"\n",
      "_________________________________________________________________\n",
      "Layer (type)                 Output Shape              Param #   \n",
      "=================================================================\n",
      "embedding_1 (Embedding)      (None, 20, 8)             80000     \n",
      "_________________________________________________________________\n",
      "flatten_1 (Flatten)          (None, 160)               0         \n",
      "_________________________________________________________________\n",
      "dense_1 (Dense)              (None, 1)                 161       \n",
      "=================================================================\n",
      "Total params: 80,161\n",
      "Trainable params: 80,161\n",
      "Non-trainable params: 0\n",
      "_________________________________________________________________\n"
     ]
    },
    {
     "name": "stderr",
     "output_type": "stream",
     "text": [
      "/Users/jaisuk/.local/share/virtualenvs/study-XD92VzB6/lib/python3.7/site-packages/tensorflow_core/python/framework/indexed_slices.py:424: UserWarning: Converting sparse IndexedSlices to a dense Tensor of unknown shape. This may consume a large amount of memory.\n",
      "  \"Converting sparse IndexedSlices to a dense Tensor of unknown shape. \"\n"
     ]
    },
    {
     "name": "stdout",
     "output_type": "stream",
     "text": [
      "Train on 20000 samples, validate on 5000 samples\n",
      "Epoch 1/10\n",
      "20000/20000 [==============================] - 1s 49us/step - loss: 0.6712 - acc: 0.6173 - val_loss: 0.6193 - val_acc: 0.6970\n",
      "Epoch 2/10\n",
      "20000/20000 [==============================] - 1s 49us/step - loss: 0.5417 - acc: 0.7509 - val_loss: 0.5218 - val_acc: 0.7348\n",
      "Epoch 3/10\n",
      "20000/20000 [==============================] - 1s 40us/step - loss: 0.4601 - acc: 0.7875 - val_loss: 0.4973 - val_acc: 0.7458\n",
      "Epoch 4/10\n",
      "20000/20000 [==============================] - 1s 40us/step - loss: 0.4214 - acc: 0.8078 - val_loss: 0.4933 - val_acc: 0.7552\n",
      "Epoch 5/10\n",
      "20000/20000 [==============================] - 1s 39us/step - loss: 0.3950 - acc: 0.8241 - val_loss: 0.4924 - val_acc: 0.7576\n",
      "Epoch 6/10\n",
      "20000/20000 [==============================] - 1s 39us/step - loss: 0.3726 - acc: 0.8353 - val_loss: 0.4978 - val_acc: 0.7564\n",
      "Epoch 7/10\n",
      "20000/20000 [==============================] - 1s 40us/step - loss: 0.3537 - acc: 0.8448 - val_loss: 0.5018 - val_acc: 0.7556\n",
      "Epoch 8/10\n",
      "20000/20000 [==============================] - 1s 39us/step - loss: 0.3353 - acc: 0.8553 - val_loss: 0.5077 - val_acc: 0.7546\n",
      "Epoch 9/10\n",
      "20000/20000 [==============================] - 1s 42us/step - loss: 0.3179 - acc: 0.8662 - val_loss: 0.5147 - val_acc: 0.7532\n",
      "Epoch 10/10\n",
      "20000/20000 [==============================] - 1s 42us/step - loss: 0.3020 - acc: 0.8756 - val_loss: 0.5237 - val_acc: 0.7496\n"
     ]
    }
   ],
   "source": [
    "from keras.models import Sequential\n",
    "from keras.layers import Flatten, Dense, Embedding\n",
    "\n",
    "model = Sequential()\n",
    "model.add(Embedding(10000, 8, input_length=maxlen))\n",
    "\n",
    "model.add(Flatten())\n",
    "\n",
    "model.add(Dense(1, activation='sigmoid'))\n",
    "model.compile(optimizer='rmsprop', loss='binary_crossentropy', metrics=['acc'])\n",
    "model.summary()\n",
    "\n",
    "history = model.fit(x_train, y_train, epochs=10, batch_size=32, validation_split=0.2)"
   ]
  },
  {
   "cell_type": "code",
   "execution_count": null,
   "metadata": {},
   "outputs": [],
   "source": [
    "\n"
   ]
  },
  {
   "cell_type": "code",
   "execution_count": 13,
   "metadata": {},
   "outputs": [
    {
     "name": "stdout",
     "output_type": "stream",
     "text": [
      "['\"Date Time\"', '\"p (mbar)\"', '\"T (degC)\"', '\"Tpot (K)\"', '\"Tdew (degC)\"', '\"rh (%)\"', '\"VPmax (mbar)\"', '\"VPact (mbar)\"', '\"VPdef (mbar)\"', '\"sh (g/kg)\"', '\"H2OC (mmol/mol)\"', '\"rho (g/m**3)\"', '\"wv (m/s)\"', '\"max. wv (m/s)\"', '\"wd (deg)\"']\n",
      "420551\n"
     ]
    }
   ],
   "source": [
    "import os\n",
    "\n",
    "data_dir = '../../datasets/jena_climate'\n",
    "fname = os.path.join(data_dir, 'jena_climate_2009_2016.csv')\n",
    "\n",
    "f=open(fname)\n",
    "data =f.read()\n",
    "f.close()\n",
    "lines = data.split('\\n')\n",
    "header = lines[0].split(',')\n",
    "lines = lines[1:]\n",
    "\n",
    "print(header)\n",
    "print(len(lines))"
   ]
  },
  {
   "cell_type": "code",
   "execution_count": 14,
   "metadata": {},
   "outputs": [],
   "source": [
    "import numpy as np\n",
    "\n",
    "float_data = np.zeros((len(lines), len(header) -1))\n",
    "for i,line in enumerate(lines):\n",
    "    values = [float(x) for x in line.split(',')[1:]]\n",
    "    float_data[i, :] = values"
   ]
  },
  {
   "cell_type": "code",
   "execution_count": 16,
   "metadata": {},
   "outputs": [
    {
     "data": {
      "text/plain": [
       "[<matplotlib.lines.Line2D at 0x14381f150>]"
      ]
     },
     "execution_count": 16,
     "metadata": {},
     "output_type": "execute_result"
    },
    {
     "data": {
      "image/png": "[encoded data removed]",
      "text/plain": [
       "<Figure size 432x288 with 1 Axes>"
      ]
     },
     "metadata": {
      "needs_background": "light"
     },
     "output_type": "display_data"
    }
   ],
   "source": [
    "from matplotlib import pyplot as plt\n",
    "\n",
    "temp = float_data[:, 1]\n",
    "plt.plot(range(len(temp)), temp)"
   ]
  },
  {
   "cell_type": "code",
   "execution_count": 17,
   "metadata": {},
   "outputs": [],
   "source": [
    "mean = float_data[:200000].mean(axis=0)\n",
    "float_data -= mean\n",
    "std = float_data[:200000].std(axis=0)\n",
    "float_data /= std\n",
    "\n",
    "# 정규분포 정규화를 이용 => mean=0, std=1"
   ]
  },
  {
   "cell_type": "code",
   "execution_count": 23,
   "metadata": {},
   "outputs": [],
   "source": [
    "def generator(data, lookback, delay, min_index, max_index, shuffle=False, batch_size=128, step=6):\n",
    "    if max_index is None:\n",
    "        max_index = len(data) - delay -1\n",
    "    i = min_index + lookback\n",
    "    while 1:\n",
    "        if shuffle:\n",
    "            rows = np.random.randint(\n",
    "            min_index + lookback, max_index, size=batch_size)\n",
    "        else:\n",
    "            if i + batch_size >= max_index:\n",
    "                i = min_index + lookback\n",
    "            rows = np.arange(i, min(i + batch_size, max_index))\n",
    "            i += len(rows)\n",
    "            \n",
    "        samples = np.zeros((len(rows), lookback // step, data.shape[-1]))\n",
    "        targets = np.zeros((len(rows),))\n",
    "        \n",
    "        for j, row in enumerate(rows):\n",
    "            indices = range(rows[j] - lookback, rows[j], step)\n",
    "            samples[j] = data[indices]\n",
    "            targets[j] = data[rows[j] + delay][1]\n",
    "        yield samples, targets"
   ]
  },
  {
   "cell_type": "code",
   "execution_count": 24,
   "metadata": {},
   "outputs": [],
   "source": [
    "lookback = 1440\n",
    "step = 6\n",
    "delay = 144\n",
    "batch_size = 128\n",
    "train_gen = generator(float_data,\n",
    "                     lookback = lookback,\n",
    "                     delay = delay,\n",
    "                     min_index = 0,\n",
    "                     max_index = 200000,\n",
    "                     shuffle=True,\n",
    "                     step=step,\n",
    "                     batch_size=batch_size)\n",
    "val_gen = generator(float_data,\n",
    "                   lookback = lookback,\n",
    "                   delay=delay,\n",
    "                   min_index=200001,\n",
    "                   max_index=300000,\n",
    "                   step=step,\n",
    "                   batch_size=batch_size)\n",
    "test_gen = generator(float_data,\n",
    "                   lookback = lookback,\n",
    "                   delay=delay,\n",
    "                   min_index=300001,\n",
    "                   max_index=None,\n",
    "                   step=step,\n",
    "                   batch_size=batch_size)\n",
    "\n",
    "val_steps = (300000 - 200001 - lookback) // batch_size\n",
    "\n",
    "test_steps = (len(float_data) - 300001 - lookback) // batch_size"
   ]
  },
  {
   "cell_type": "code",
   "execution_count": 25,
   "metadata": {},
   "outputs": [
    {
     "name": "stdout",
     "output_type": "stream",
     "text": [
      "Epoch 1/20\n",
      "500/500 [==============================] - 14s 27ms/step - loss: 1.1974 - val_loss: 0.7300\n",
      "Epoch 2/20\n",
      "500/500 [==============================] - 14s 28ms/step - loss: 0.4090 - val_loss: 0.2485\n",
      "Epoch 3/20\n",
      "500/500 [==============================] - 14s 28ms/step - loss: 0.2871 - val_loss: 0.2728\n",
      "Epoch 4/20\n",
      "500/500 [==============================] - 14s 29ms/step - loss: 0.2665 - val_loss: 0.2779\n",
      "Epoch 5/20\n",
      "500/500 [==============================] - 14s 29ms/step - loss: 0.2526 - val_loss: 0.3781\n",
      "Epoch 6/20\n",
      "500/500 [==============================] - 14s 29ms/step - loss: 0.2456 - val_loss: 0.4474\n",
      "Epoch 7/20\n",
      "500/500 [==============================] - 14s 28ms/step - loss: 0.2379 - val_loss: 0.2629\n",
      "Epoch 8/20\n",
      "500/500 [==============================] - 14s 28ms/step - loss: 0.2328 - val_loss: 0.2168\n",
      "Epoch 9/20\n",
      "500/500 [==============================] - 14s 29ms/step - loss: 0.2280 - val_loss: 0.3355\n",
      "Epoch 10/20\n",
      "500/500 [==============================] - 14s 29ms/step - loss: 0.2229 - val_loss: 0.1987\n",
      "Epoch 11/20\n",
      "500/500 [==============================] - 14s 29ms/step - loss: 0.2197 - val_loss: 0.2030\n",
      "Epoch 12/20\n",
      "500/500 [==============================] - 14s 28ms/step - loss: 0.2169 - val_loss: 0.2766\n",
      "Epoch 13/20\n",
      "500/500 [==============================] - 14s 28ms/step - loss: 0.2147 - val_loss: 0.2449\n",
      "Epoch 14/20\n",
      "500/500 [==============================] - 14s 28ms/step - loss: 0.2114 - val_loss: 0.1856\n",
      "Epoch 15/20\n",
      "500/500 [==============================] - 14s 28ms/step - loss: 0.2091 - val_loss: 0.1685\n",
      "Epoch 16/20\n",
      "500/500 [==============================] - 14s 28ms/step - loss: 0.2069 - val_loss: 0.3025\n",
      "Epoch 17/20\n",
      "500/500 [==============================] - 14s 28ms/step - loss: 0.2051 - val_loss: 0.3230\n",
      "Epoch 18/20\n",
      "500/500 [==============================] - 14s 28ms/step - loss: 0.2030 - val_loss: 0.4253\n",
      "Epoch 19/20\n",
      "500/500 [==============================] - 14s 28ms/step - loss: 0.2016 - val_loss: 0.1847\n",
      "Epoch 20/20\n",
      "500/500 [==============================] - 14s 28ms/step - loss: 0.2014 - val_loss: 0.2887\n"
     ]
    }
   ],
   "source": [
    "from keras.models import Sequential\n",
    "from keras import layers\n",
    "from keras.optimizers import RMSprop\n",
    "\n",
    "model = Sequential()\n",
    "model.add(layers.Flatten(input_shape=(lookback // step, float_data.shape[-1])))\n",
    "model.add(layers.Dense(32, activation = 'relu'))\n",
    "model.add(layers.Dense(1))\n",
    "model.compile(optimizer=RMSprop(), loss='mae')\n",
    "history = model.fit_generator(train_gen,\n",
    "                             steps_per_epoch = 500,\n",
    "                             epochs=20,\n",
    "                             validation_data=val_gen,\n",
    "                             validation_steps=val_steps)"
   ]
  },
  {
   "cell_type": "code",
   "execution_count": 26,
   "metadata": {},
   "outputs": [
    {
     "data": {
      "image/png": "[encoded data removed]",
      "text/plain": [
       "<Figure size 432x288 with 1 Axes>"
      ]
     },
     "metadata": {
      "needs_background": "light"
     },
     "output_type": "display_data"
    }
   ],
   "source": [
    "import matplotlib.pyplot as plt\n",
    "\n",
    "loss= history.history['loss']\n",
    "val_loss = history.history['val_loss']\n",
    "\n",
    "epochs = range(1, len(loss) + 1)\n",
    "\n",
    "plt.figure()\n",
    "plt.plot(epochs, loss, 'bo', label='Training loss')\n",
    "plt.plot(epochs, val_loss, 'b', label='Validation loss')\n",
    "plt.title('Training and validation loss')\n",
    "plt.legend()\n",
    "\n",
    "plt.show()"
   ]
  },
  {
   "cell_type": "code",
   "execution_count": null,
   "metadata": {},
   "outputs": [],
   "source": [
    "from keras.models import Sequential\n",
    "from keras import layers\n",
    "from keras.optimizers import RMSprop\n",
    "\n",
    "model = Sequential()\n",
    "model.add(layers.GRU(32, input_shape=(None, float_data.shape[-1])))\n",
    "model.add(layers.Dense(1))\n",
    "\n",
    "model.compile(optimizer=RMSprop(), loss='mae')\n",
    "history = model.fit_generator(train_gen,\n",
    "                             steps_per_epoch=500,\n",
    "                             epochs=20,\n",
    "                             validation_data=val_gen,\n",
    "                             validation_steps=val_steps)"
   ]
  },
  {
   "cell_type": "markdown",
   "metadata": {},
   "source": [
    "이후는 CPU 터질거 같아서... 여기까지... "
   ]
  },
  {
   "cell_type": "markdown",
   "metadata": {},
   "source": [
    "결국... 고려해야 할 것\n",
    "\n",
    "\n",
    "- 책 7.3절 인용\n",
    "\n",
    "\n",
    "    단어 임베딩 -> 의미있는 조합의 input을 통해 효과적인 벡터화가 성공을 결정한다.\n",
    "\n",
    "    배치 정규화 (혹은 배치 재정규화..) 이는 리서치 필요\n",
    "\n",
    "    깊이별 분리 합성곱\n",
    "\n",
    "    RNN (LSTM, GRU, 양방향)\n",
    "\n",
    "    CNN(1D, 2D)\n",
    "\n",
    "    하이퍼 파라미터 최적화...\n",
    "    \n",
    "    모델 앙상블"
   ]
  }
 ],
 "metadata": {
  "kernelspec": {
   "display_name": "study",
   "language": "python",
   "name": "study"
  },
  "language_info": {
   "codemirror_mode": {
    "name": "ipython",
    "version": 3
   },
   "file_extension": ".py",
   "mimetype": "text/x-python",
   "name": "python",
   "nbconvert_exporter": "python",
   "pygments_lexer": "ipython3",
   "version": "3.7.4"
  }
 },
 "nbformat": 4,
 "nbformat_minor": 4
}
